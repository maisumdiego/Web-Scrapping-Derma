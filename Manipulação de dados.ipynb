{
 "cells": [
  {
   "cell_type": "code",
   "execution_count": 1,
   "id": "55ec4c9c",
   "metadata": {},
   "outputs": [],
   "source": [
    "import pandas as pd\n",
    "import plotly.express as px\n",
    "import numpy as np\n",
    "pd.options.mode.chained_assignment = None\n",
    "from datetime import datetime\n",
    "from glob import glob"
   ]
  },
  {
   "cell_type": "code",
   "execution_count": 2,
   "id": "cac45ef1",
   "metadata": {},
   "outputs": [],
   "source": [
    "def coluna_data_hora(dataset):\n",
    "    dataset['diferenca_post_coleta'] = dataset['coleta'] - dataset['data_ajustada']"
   ]
  },
  {
   "cell_type": "code",
   "execution_count": 3,
   "id": "3b953ad4",
   "metadata": {},
   "outputs": [],
   "source": [
    "def marcacao(dataset):\n",
    "    dataset['marcacao'] = ''\n",
    "    dataset['marcacao'].loc[:9] = 'destaque'\n",
    "    dataset['marcacao'].loc[9:] = 'mais recente'"
   ]
  },
  {
   "cell_type": "code",
   "execution_count": 4,
   "id": "7de927d9",
   "metadata": {},
   "outputs": [],
   "source": [
    "def curtidas_por_minuto(dataset):\n",
    "    dataset['curtidas_por_minuto'] = round(\n",
    "        dataset.curtidas / dataset.diferenca_post_coleta.apply(lambda x: x.total_seconds() / 3600), 2)"
   ]
  },
  {
   "cell_type": "code",
   "execution_count": 5,
   "id": "5aed3ddf",
   "metadata": {},
   "outputs": [],
   "source": [
    "hashtags = ['saudeeestetica', 'estetica', 'esteticafacial', 'esteticacorporal', \n",
    "                          'esteticaavancada', 'harmonizacaofacial', 'harmonizacaocorporal', 'harmonizacaoorofacial', \n",
    "                          'rejuvenescimento', 'preenchimento', 'preenchimentofacial', 'acidohialuronico', \n",
    "                          'toxinabotulinica', 'botox', 'bioestimuladores', 'bioestimuladoresdecolágeno', \n",
    "                          'sculptra', 'radiesse', 'lipodepapada', 'microagulhamento', 'intradermoterapia', \n",
    "                          'rinomodelacao', 'skinbooster', 'criolipolise', 'enzimascorporais']"
   ]
  },
  {
   "cell_type": "code",
   "execution_count": 6,
   "id": "4a5a5425",
   "metadata": {},
   "outputs": [],
   "source": [
    "arquivos = sorted(glob('*.xlsx'))\n",
    "dados = []\n",
    "for i in range(len(arquivos)):\n",
    "    abrir = pd.read_excel(arquivos[i], index_col=0)\n",
    "    abrir['tag_buscada'] = arquivos[i][4:-5]\n",
    "    dados.append(abrir)"
   ]
  },
  {
   "cell_type": "code",
   "execution_count": 34,
   "id": "6e9147d7",
   "metadata": {},
   "outputs": [],
   "source": [
    "for i in range(len(dados)):\n",
    "    marcacao(dados[i])\n",
    "    coluna_data_hora(dados[i])\n",
    "    curtidas_por_minuto(dados[i])"
   ]
  },
  {
   "cell_type": "code",
   "execution_count": 28,
   "id": "8d1ea77a",
   "metadata": {},
   "outputs": [],
   "source": [
    "def graf_post_hora(dataset):\n",
    "    # dicionário de contagem\n",
    "    post_por_hora = dataset.data_ajustada.apply(lambda x: x.strftime(\"%H:00\"))\n",
    "    post_por_hora = post_por_hora.value_counts()\n",
    "    post_por_hora = post_por_hora.to_dict()\n",
    "    post_por_hora\n",
    "\n",
    "    # tabela horária\n",
    "    horas = ['{:02d}:00'.format(hora) for hora in range(24)]\n",
    "    tabela_horaria = pd.DataFrame({'horario': horas})\n",
    "    tabela_horaria['postagens'] = tabela_horaria['horario'].map(post_por_hora)\n",
    "    tabela_horaria.fillna('0', inplace=True)\n",
    "    tabela_horaria\n",
    "\n",
    "    # gráfico\n",
    "    fig = px.line(x='horario', y='postagens', data_frame=tabela_horaria, \n",
    "                  markers=True, title=f\"Postagens por hora: #{dataset.tag_buscada[0]}\")\n",
    "    \n",
    "    fig.write_image(f\"Gráfico postagens por hora hashtag {dataset.tag_buscada[0]}.png\")\n",
    "    \n",
    "    return fig"
   ]
  },
  {
   "cell_type": "code",
   "execution_count": 33,
   "id": "96057a36",
   "metadata": {},
   "outputs": [],
   "source": [
    "#for i in range(len(dados)):\n",
    "#    graf_post_hora(dados[i])"
   ]
  },
  {
   "cell_type": "code",
   "execution_count": 44,
   "id": "2c2e441d",
   "metadata": {},
   "outputs": [
    {
     "data": {
      "text/html": [
       "<div>\n",
       "<style scoped>\n",
       "    .dataframe tbody tr th:only-of-type {\n",
       "        vertical-align: middle;\n",
       "    }\n",
       "\n",
       "    .dataframe tbody tr th {\n",
       "        vertical-align: top;\n",
       "    }\n",
       "\n",
       "    .dataframe thead th {\n",
       "        text-align: right;\n",
       "    }\n",
       "</style>\n",
       "<table border=\"1\" class=\"dataframe\">\n",
       "  <thead>\n",
       "    <tr style=\"text-align: right;\">\n",
       "      <th></th>\n",
       "      <th>usuario</th>\n",
       "      <th>curtidas</th>\n",
       "      <th>legenda</th>\n",
       "      <th>data_origem</th>\n",
       "      <th>coleta</th>\n",
       "      <th>url</th>\n",
       "      <th>nome</th>\n",
       "      <th>total_posts</th>\n",
       "      <th>seguidores</th>\n",
       "      <th>seguindo</th>\n",
       "      <th>...</th>\n",
       "      <th>data_ajustada</th>\n",
       "      <th>data_postagem</th>\n",
       "      <th>horario_postagem</th>\n",
       "      <th>data_coleta</th>\n",
       "      <th>horario_coleta</th>\n",
       "      <th>tags</th>\n",
       "      <th>tag_buscada</th>\n",
       "      <th>marcacao</th>\n",
       "      <th>diferenca_post_coleta</th>\n",
       "      <th>curtidas_por_minuto</th>\n",
       "    </tr>\n",
       "  </thead>\n",
       "  <tbody>\n",
       "    <tr>\n",
       "      <th>9</th>\n",
       "      <td>uniaomulheresdesucesso</td>\n",
       "      <td>4</td>\n",
       "      <td>marca sua amiga que precisa fazer a sobrancelh...</td>\n",
       "      <td>2023-02-10 00:45:08</td>\n",
       "      <td>2023-02-09 21:47:40.866</td>\n",
       "      <td>https://www.instagram.com/p/CodlTFjNbCS/</td>\n",
       "      <td>Mulheres De Sucesso</td>\n",
       "      <td>31</td>\n",
       "      <td>38</td>\n",
       "      <td>46</td>\n",
       "      <td>...</td>\n",
       "      <td>2023-02-09 21:45:08</td>\n",
       "      <td>2023-02-09</td>\n",
       "      <td>21:45:08</td>\n",
       "      <td>2023-02-09</td>\n",
       "      <td>21:47:40.866138</td>\n",
       "      <td>#sobrancelhas #microblading #sobrancelhasperf...</td>\n",
       "      <td>estetica</td>\n",
       "      <td>mais recente</td>\n",
       "      <td>0 days 00:02:32.866000</td>\n",
       "      <td>94.20</td>\n",
       "    </tr>\n",
       "    <tr>\n",
       "      <th>10</th>\n",
       "      <td>atelie_karolcampos</td>\n",
       "      <td>4</td>\n",
       "      <td>Manutenção compridinhas ❤️\\n\\nValores e mais i...</td>\n",
       "      <td>2023-02-10 00:44:11</td>\n",
       "      <td>2023-02-09 21:47:47.728</td>\n",
       "      <td>https://www.instagram.com/p/CodlMLSs9Gk/</td>\n",
       "      <td>Karol Campos | Nail &amp; Lash Designer</td>\n",
       "      <td>250</td>\n",
       "      <td>3829</td>\n",
       "      <td>2784</td>\n",
       "      <td>...</td>\n",
       "      <td>2023-02-09 21:44:11</td>\n",
       "      <td>2023-02-09</td>\n",
       "      <td>21:44:11</td>\n",
       "      <td>2023-02-09</td>\n",
       "      <td>21:47:47.728178</td>\n",
       "      <td>#unhasdegel #estetica #designdeunhas #unhas #...</td>\n",
       "      <td>estetica</td>\n",
       "      <td>mais recente</td>\n",
       "      <td>0 days 00:03:36.728000</td>\n",
       "      <td>66.44</td>\n",
       "    </tr>\n",
       "    <tr>\n",
       "      <th>11</th>\n",
       "      <td>newskin.co</td>\n",
       "      <td>0</td>\n",
       "      <td>Vuelve nuestra PROMOCIÓN DE CURSOS ‼️ 𝐎𝐍𝐋𝐈𝐍𝐄 𝐎...</td>\n",
       "      <td>2023-02-10 00:44:13</td>\n",
       "      <td>2023-02-09 21:47:58.531</td>\n",
       "      <td>https://www.instagram.com/p/CodlMa9tlyr/</td>\n",
       "      <td>CAMUFLAJE DE ESTRÍAS-BB GLOW</td>\n",
       "      <td>1112</td>\n",
       "      <td>25333</td>\n",
       "      <td>110</td>\n",
       "      <td>...</td>\n",
       "      <td>2023-02-09 21:44:13</td>\n",
       "      <td>2023-02-09</td>\n",
       "      <td>21:44:13</td>\n",
       "      <td>2023-02-09</td>\n",
       "      <td>21:47:58.530600</td>\n",
       "      <td>#NewSkin #ElColorDeTuPiel #BbBlush #BbGlow #B...</td>\n",
       "      <td>estetica</td>\n",
       "      <td>mais recente</td>\n",
       "      <td>0 days 00:03:45.531000</td>\n",
       "      <td>0.00</td>\n",
       "    </tr>\n",
       "    <tr>\n",
       "      <th>12</th>\n",
       "      <td>diamant.belleza</td>\n",
       "      <td>0</td>\n",
       "      <td>⭐ Micropigmentación\\n⭐ Cejas, Labios y delinea...</td>\n",
       "      <td>2023-02-10 00:44:30</td>\n",
       "      <td>2023-02-09 21:48:06.001</td>\n",
       "      <td>https://www.instagram.com/p/CodlObztfo5/</td>\n",
       "      <td>Leonor Villa</td>\n",
       "      <td>83</td>\n",
       "      <td>736</td>\n",
       "      <td>2082</td>\n",
       "      <td>...</td>\n",
       "      <td>2023-02-09 21:44:30</td>\n",
       "      <td>2023-02-09</td>\n",
       "      <td>21:44:30</td>\n",
       "      <td>2023-02-09</td>\n",
       "      <td>21:48:06.000814</td>\n",
       "      <td>#estetica #esteticacorporal #depilacionlaser ...</td>\n",
       "      <td>estetica</td>\n",
       "      <td>mais recente</td>\n",
       "      <td>0 days 00:03:36.001000</td>\n",
       "      <td>0.00</td>\n",
       "    </tr>\n",
       "    <tr>\n",
       "      <th>13</th>\n",
       "      <td>m.d.estetica_</td>\n",
       "      <td>2</td>\n",
       "      <td>O tratamento com ventosas pode ser indicado pa...</td>\n",
       "      <td>2023-02-10 00:45:23</td>\n",
       "      <td>2023-02-09 21:48:13.168</td>\n",
       "      <td>https://www.instagram.com/p/CodlU-lthHJ/</td>\n",
       "      <td>M D ESTÉTICA</td>\n",
       "      <td>23</td>\n",
       "      <td>395</td>\n",
       "      <td>482</td>\n",
       "      <td>...</td>\n",
       "      <td>2023-02-09 21:45:23</td>\n",
       "      <td>2023-02-09</td>\n",
       "      <td>21:45:23</td>\n",
       "      <td>2023-02-09</td>\n",
       "      <td>21:48:13.167778</td>\n",
       "      <td>#estetica #esteticaesaude #esteticafacial #es...</td>\n",
       "      <td>estetica</td>\n",
       "      <td>mais recente</td>\n",
       "      <td>0 days 00:02:50.168000</td>\n",
       "      <td>42.31</td>\n",
       "    </tr>\n",
       "    <tr>\n",
       "      <th>...</th>\n",
       "      <td>...</td>\n",
       "      <td>...</td>\n",
       "      <td>...</td>\n",
       "      <td>...</td>\n",
       "      <td>...</td>\n",
       "      <td>...</td>\n",
       "      <td>...</td>\n",
       "      <td>...</td>\n",
       "      <td>...</td>\n",
       "      <td>...</td>\n",
       "      <td>...</td>\n",
       "      <td>...</td>\n",
       "      <td>...</td>\n",
       "      <td>...</td>\n",
       "      <td>...</td>\n",
       "      <td>...</td>\n",
       "      <td>...</td>\n",
       "      <td>...</td>\n",
       "      <td>...</td>\n",
       "      <td>...</td>\n",
       "      <td>...</td>\n",
       "    </tr>\n",
       "    <tr>\n",
       "      <th>210</th>\n",
       "      <td>zetapeluqueriayestetica</td>\n",
       "      <td>2</td>\n",
       "      <td>Uñas ☺☺\\n\\nLargas, cortas, redondas cuadradas!...</td>\n",
       "      <td>2023-02-10 00:05:56</td>\n",
       "      <td>2023-02-09 22:11:26.001</td>\n",
       "      <td>https://www.instagram.com/p/Codg0D_OkVw/</td>\n",
       "      <td>zeta peluqueria y estetica</td>\n",
       "      <td>184</td>\n",
       "      <td>50</td>\n",
       "      <td>93</td>\n",
       "      <td>...</td>\n",
       "      <td>2023-02-09 21:05:56</td>\n",
       "      <td>2023-02-09</td>\n",
       "      <td>21:05:56</td>\n",
       "      <td>2023-02-09</td>\n",
       "      <td>22:11:26.000529</td>\n",
       "      <td>#lipoescultura #cavitacion #reducción #moldeo...</td>\n",
       "      <td>estetica</td>\n",
       "      <td>mais recente</td>\n",
       "      <td>0 days 01:05:30.001000</td>\n",
       "      <td>1.83</td>\n",
       "    </tr>\n",
       "    <tr>\n",
       "      <th>211</th>\n",
       "      <td>ls.lentesoficial</td>\n",
       "      <td>2</td>\n",
       "      <td>Código do modelo: ENDORPHIN\\n\\nCompras diretam...</td>\n",
       "      <td>2023-02-10 00:06:38</td>\n",
       "      <td>2023-02-09 22:11:32.922</td>\n",
       "      <td>https://www.instagram.com/p/Codg5Lpu1N1/</td>\n",
       "      <td>LS LENTES DE CONTATO</td>\n",
       "      <td>345</td>\n",
       "      <td>2542</td>\n",
       "      <td>22</td>\n",
       "      <td>...</td>\n",
       "      <td>2023-02-09 21:06:38</td>\n",
       "      <td>2023-02-09</td>\n",
       "      <td>21:06:38</td>\n",
       "      <td>2023-02-09</td>\n",
       "      <td>22:11:32.921511</td>\n",
       "      <td>#saude #olhos #estetica #lentes #lentesdecont...</td>\n",
       "      <td>estetica</td>\n",
       "      <td>mais recente</td>\n",
       "      <td>0 days 01:04:54.922000</td>\n",
       "      <td>1.85</td>\n",
       "    </tr>\n",
       "    <tr>\n",
       "      <th>212</th>\n",
       "      <td>marketing_digital_likes_2</td>\n",
       "      <td>8</td>\n",
       "      <td>Melhores preços e Qualidade top\\n\\n✅Seguidores...</td>\n",
       "      <td>2023-02-10 00:05:58</td>\n",
       "      <td>2023-02-09 22:11:40.505</td>\n",
       "      <td>https://www.instagram.com/p/Codg0S-s059/</td>\n",
       "      <td>Preço Bom e melhor Qualidade</td>\n",
       "      <td>4601</td>\n",
       "      <td>9962</td>\n",
       "      <td>615</td>\n",
       "      <td>...</td>\n",
       "      <td>2023-02-09 21:05:58</td>\n",
       "      <td>2023-02-09</td>\n",
       "      <td>21:05:58</td>\n",
       "      <td>2023-02-09</td>\n",
       "      <td>22:11:40.505180</td>\n",
       "      <td>#comprarseguidoresseguro #comprarseguidores10...</td>\n",
       "      <td>estetica</td>\n",
       "      <td>mais recente</td>\n",
       "      <td>0 days 01:05:42.505000</td>\n",
       "      <td>7.31</td>\n",
       "    </tr>\n",
       "    <tr>\n",
       "      <th>213</th>\n",
       "      <td>dentalkiru</td>\n",
       "      <td>2</td>\n",
       "      <td>Sabías de esta opción en estética dental 🦷\\n\\n...</td>\n",
       "      <td>2023-02-10 00:04:17</td>\n",
       "      <td>2023-02-09 22:11:48.370</td>\n",
       "      <td>https://www.instagram.com/p/Codgn78LjiF/</td>\n",
       "      <td>Dental Kiru</td>\n",
       "      <td>159</td>\n",
       "      <td>220</td>\n",
       "      <td>123</td>\n",
       "      <td>...</td>\n",
       "      <td>2023-02-09 21:04:17</td>\n",
       "      <td>2023-02-09</td>\n",
       "      <td>21:04:17</td>\n",
       "      <td>2023-02-09</td>\n",
       "      <td>22:11:48.369998</td>\n",
       "      <td>#odontologia #dentista #odonto #dentistry #de...</td>\n",
       "      <td>estetica</td>\n",
       "      <td>mais recente</td>\n",
       "      <td>0 days 01:07:31.370000</td>\n",
       "      <td>1.78</td>\n",
       "    </tr>\n",
       "    <tr>\n",
       "      <th>214</th>\n",
       "      <td>d.paulo_lash</td>\n",
       "      <td>5</td>\n",
       "      <td>✨ Cuidado não se apaixonar ❤️🥰\\nRímel ou exten...</td>\n",
       "      <td>2023-02-10 00:05:06</td>\n",
       "      <td>2023-02-09 22:11:55.257</td>\n",
       "      <td>https://www.instagram.com/p/Codgt8aseWG/</td>\n",
       "      <td>Jef D'Paulo</td>\n",
       "      <td>18</td>\n",
       "      <td>69</td>\n",
       "      <td>13</td>\n",
       "      <td>...</td>\n",
       "      <td>2023-02-09 21:05:06</td>\n",
       "      <td>2023-02-09</td>\n",
       "      <td>21:05:06</td>\n",
       "      <td>2023-02-09</td>\n",
       "      <td>22:11:55.257322</td>\n",
       "      <td>#extensaodecilios #volumebrasileiro #alongame...</td>\n",
       "      <td>estetica</td>\n",
       "      <td>mais recente</td>\n",
       "      <td>0 days 01:06:49.257000</td>\n",
       "      <td>4.49</td>\n",
       "    </tr>\n",
       "  </tbody>\n",
       "</table>\n",
       "<p>206 rows × 21 columns</p>\n",
       "</div>"
      ],
      "text/plain": [
       "                       usuario  curtidas  \\\n",
       "9       uniaomulheresdesucesso         4   \n",
       "10          atelie_karolcampos         4   \n",
       "11                  newskin.co         0   \n",
       "12             diamant.belleza         0   \n",
       "13               m.d.estetica_         2   \n",
       "..                         ...       ...   \n",
       "210    zetapeluqueriayestetica         2   \n",
       "211           ls.lentesoficial         2   \n",
       "212  marketing_digital_likes_2         8   \n",
       "213                 dentalkiru         2   \n",
       "214               d.paulo_lash         5   \n",
       "\n",
       "                                               legenda         data_origem  \\\n",
       "9    marca sua amiga que precisa fazer a sobrancelh... 2023-02-10 00:45:08   \n",
       "10   Manutenção compridinhas ❤️\\n\\nValores e mais i... 2023-02-10 00:44:11   \n",
       "11   Vuelve nuestra PROMOCIÓN DE CURSOS ‼️ 𝐎𝐍𝐋𝐈𝐍𝐄 𝐎... 2023-02-10 00:44:13   \n",
       "12   ⭐ Micropigmentación\\n⭐ Cejas, Labios y delinea... 2023-02-10 00:44:30   \n",
       "13   O tratamento com ventosas pode ser indicado pa... 2023-02-10 00:45:23   \n",
       "..                                                 ...                 ...   \n",
       "210  Uñas ☺☺\\n\\nLargas, cortas, redondas cuadradas!... 2023-02-10 00:05:56   \n",
       "211  Código do modelo: ENDORPHIN\\n\\nCompras diretam... 2023-02-10 00:06:38   \n",
       "212  Melhores preços e Qualidade top\\n\\n✅Seguidores... 2023-02-10 00:05:58   \n",
       "213  Sabías de esta opción en estética dental 🦷\\n\\n... 2023-02-10 00:04:17   \n",
       "214  ✨ Cuidado não se apaixonar ❤️🥰\\nRímel ou exten... 2023-02-10 00:05:06   \n",
       "\n",
       "                     coleta                                       url  \\\n",
       "9   2023-02-09 21:47:40.866  https://www.instagram.com/p/CodlTFjNbCS/   \n",
       "10  2023-02-09 21:47:47.728  https://www.instagram.com/p/CodlMLSs9Gk/   \n",
       "11  2023-02-09 21:47:58.531  https://www.instagram.com/p/CodlMa9tlyr/   \n",
       "12  2023-02-09 21:48:06.001  https://www.instagram.com/p/CodlObztfo5/   \n",
       "13  2023-02-09 21:48:13.168  https://www.instagram.com/p/CodlU-lthHJ/   \n",
       "..                      ...                                       ...   \n",
       "210 2023-02-09 22:11:26.001  https://www.instagram.com/p/Codg0D_OkVw/   \n",
       "211 2023-02-09 22:11:32.922  https://www.instagram.com/p/Codg5Lpu1N1/   \n",
       "212 2023-02-09 22:11:40.505  https://www.instagram.com/p/Codg0S-s059/   \n",
       "213 2023-02-09 22:11:48.370  https://www.instagram.com/p/Codgn78LjiF/   \n",
       "214 2023-02-09 22:11:55.257  https://www.instagram.com/p/Codgt8aseWG/   \n",
       "\n",
       "                                    nome  total_posts  seguidores  seguindo  \\\n",
       "9                    Mulheres De Sucesso           31          38        46   \n",
       "10   Karol Campos | Nail & Lash Designer          250        3829      2784   \n",
       "11         CAMUFLAJE DE ESTRÍAS-BB GLOW         1112       25333       110   \n",
       "12                          Leonor Villa           83         736      2082   \n",
       "13                          M D ESTÉTICA           23         395       482   \n",
       "..                                   ...          ...         ...       ...   \n",
       "210           zeta peluqueria y estetica          184          50        93   \n",
       "211                 LS LENTES DE CONTATO          345        2542        22   \n",
       "212         Preço Bom e melhor Qualidade         4601        9962       615   \n",
       "213                          Dental Kiru          159         220       123   \n",
       "214                          Jef D'Paulo           18          69        13   \n",
       "\n",
       "     ...       data_ajustada data_postagem horario_postagem data_coleta  \\\n",
       "9    ... 2023-02-09 21:45:08    2023-02-09         21:45:08  2023-02-09   \n",
       "10   ... 2023-02-09 21:44:11    2023-02-09         21:44:11  2023-02-09   \n",
       "11   ... 2023-02-09 21:44:13    2023-02-09         21:44:13  2023-02-09   \n",
       "12   ... 2023-02-09 21:44:30    2023-02-09         21:44:30  2023-02-09   \n",
       "13   ... 2023-02-09 21:45:23    2023-02-09         21:45:23  2023-02-09   \n",
       "..   ...                 ...           ...              ...         ...   \n",
       "210  ... 2023-02-09 21:05:56    2023-02-09         21:05:56  2023-02-09   \n",
       "211  ... 2023-02-09 21:06:38    2023-02-09         21:06:38  2023-02-09   \n",
       "212  ... 2023-02-09 21:05:58    2023-02-09         21:05:58  2023-02-09   \n",
       "213  ... 2023-02-09 21:04:17    2023-02-09         21:04:17  2023-02-09   \n",
       "214  ... 2023-02-09 21:05:06    2023-02-09         21:05:06  2023-02-09   \n",
       "\n",
       "      horario_coleta                                               tags  \\\n",
       "9    21:47:40.866138   #sobrancelhas #microblading #sobrancelhasperf...   \n",
       "10   21:47:47.728178   #unhasdegel #estetica #designdeunhas #unhas #...   \n",
       "11   21:47:58.530600   #NewSkin #ElColorDeTuPiel #BbBlush #BbGlow #B...   \n",
       "12   21:48:06.000814   #estetica #esteticacorporal #depilacionlaser ...   \n",
       "13   21:48:13.167778   #estetica #esteticaesaude #esteticafacial #es...   \n",
       "..               ...                                                ...   \n",
       "210  22:11:26.000529   #lipoescultura #cavitacion #reducción #moldeo...   \n",
       "211  22:11:32.921511   #saude #olhos #estetica #lentes #lentesdecont...   \n",
       "212  22:11:40.505180   #comprarseguidoresseguro #comprarseguidores10...   \n",
       "213  22:11:48.369998   #odontologia #dentista #odonto #dentistry #de...   \n",
       "214  22:11:55.257322   #extensaodecilios #volumebrasileiro #alongame...   \n",
       "\n",
       "    tag_buscada      marcacao  diferenca_post_coleta curtidas_por_minuto  \n",
       "9      estetica  mais recente 0 days 00:02:32.866000               94.20  \n",
       "10     estetica  mais recente 0 days 00:03:36.728000               66.44  \n",
       "11     estetica  mais recente 0 days 00:03:45.531000                0.00  \n",
       "12     estetica  mais recente 0 days 00:03:36.001000                0.00  \n",
       "13     estetica  mais recente 0 days 00:02:50.168000               42.31  \n",
       "..          ...           ...                    ...                 ...  \n",
       "210    estetica  mais recente 0 days 01:05:30.001000                1.83  \n",
       "211    estetica  mais recente 0 days 01:04:54.922000                1.85  \n",
       "212    estetica  mais recente 0 days 01:05:42.505000                7.31  \n",
       "213    estetica  mais recente 0 days 01:07:31.370000                1.78  \n",
       "214    estetica  mais recente 0 days 01:06:49.257000                4.49  \n",
       "\n",
       "[206 rows x 21 columns]"
      ]
     },
     "execution_count": 44,
     "metadata": {},
     "output_type": "execute_result"
    }
   ],
   "source": [
    "dados[0][9:]"
   ]
  },
  {
   "cell_type": "code",
   "execution_count": 73,
   "id": "21936720",
   "metadata": {},
   "outputs": [],
   "source": [
    "def graf_curtidas_tempo_pub(dataset):\n",
    "\n",
    "    minutos = dataset[9:].diferenca_post_coleta.apply(lambda x: x.total_seconds()) / 3600\n",
    "    minutos.sort_values(inplace=True)\n",
    "\n",
    "    fig = px.scatter(x=minutos, y=dataset[9:].curtidas,\n",
    "              labels={'x':'Horas', 'y':'Curtidas'}, title=f\"Curtidas por tempo de publicação: #{dataset.tag_buscada[0]}\")\n",
    "    \n",
    "    fig.write_image(f\"Gráfico curtidas por tempo de publicação hashtag {dataset.tag_buscada[0]}.png\")\n",
    "    \n",
    "    return fig"
   ]
  },
  {
   "cell_type": "code",
   "execution_count": 74,
   "id": "15f9fc08",
   "metadata": {},
   "outputs": [],
   "source": [
    "#for i in range(len(dados)):\n",
    "    #graf_curtidas_tempo_pub(dados[i])"
   ]
  },
  {
   "cell_type": "code",
   "execution_count": 93,
   "id": "36c0c270",
   "metadata": {},
   "outputs": [
    {
     "data": {
      "application/vnd.plotly.v1+json": {
       "config": {
        "plotlyServerURL": "https://plot.ly"
       },
       "data": [
        {
         "alignmentgroup": "True",
         "hovertemplate": "x=%{x}<br>y=%{y}<extra></extra>",
         "legendgroup": "",
         "marker": {
          "color": "#636efa",
          "pattern": {
           "shape": ""
          }
         },
         "name": "",
         "offsetgroup": "",
         "orientation": "v",
         "showlegend": false,
         "textposition": "auto",
         "type": "bar",
         "x": [
          0,
          1,
          2,
          3,
          4,
          5,
          6,
          7,
          8,
          9,
          10,
          11,
          12,
          13,
          14,
          15,
          16,
          17,
          18,
          19,
          20,
          21,
          22,
          23,
          24,
          25,
          26,
          27,
          28,
          29,
          30,
          31,
          32,
          33,
          34,
          35,
          36,
          37,
          38,
          39,
          40,
          41,
          42,
          43,
          44,
          45,
          46,
          47,
          48,
          49,
          50,
          51,
          52,
          53,
          54,
          55,
          56,
          57,
          58,
          59,
          60,
          61,
          62,
          63,
          64,
          65,
          66,
          67,
          68,
          69,
          70,
          71,
          72,
          73,
          74,
          75,
          76,
          77,
          78,
          79,
          80,
          81,
          82,
          83,
          84,
          85,
          86,
          87,
          88,
          89,
          90,
          91,
          92,
          93,
          94,
          95,
          96,
          97,
          98,
          99,
          100,
          101,
          102,
          103,
          104,
          105,
          106,
          107,
          108,
          109,
          110,
          111,
          112,
          113,
          114,
          115,
          116,
          117,
          118,
          119,
          120,
          121,
          122,
          123,
          124,
          125,
          126,
          127,
          128,
          129,
          130,
          131,
          132,
          133,
          134,
          135,
          136,
          137,
          138,
          139,
          140,
          141,
          142,
          143,
          144,
          145,
          146,
          147,
          148,
          149,
          150,
          151,
          152,
          153,
          154,
          155,
          156,
          157,
          158,
          159,
          160,
          161,
          162,
          163,
          164,
          165,
          166,
          167,
          168,
          169,
          170,
          171,
          172,
          173,
          174,
          175,
          176,
          177,
          178,
          179,
          180,
          181,
          182,
          183,
          184,
          185,
          186,
          187,
          188,
          189,
          190,
          191,
          192,
          193,
          194,
          195,
          196,
          197,
          198,
          199,
          200,
          201,
          202,
          203,
          204,
          205,
          206,
          207,
          208,
          209,
          210,
          211,
          212,
          213,
          214
         ],
         "xaxis": "x",
         "y": [
          38186,
          101212,
          15986,
          128728,
          22306,
          42267,
          45160,
          128728,
          128765,
          38,
          3829,
          25333,
          736,
          395,
          9279,
          25408,
          994,
          409,
          1323,
          3829,
          3091,
          930,
          1315,
          3013,
          2928,
          3366,
          1860,
          1210,
          2781,
          3091,
          501,
          695,
          3829,
          4297,
          701,
          1175,
          446,
          1075,
          31044,
          2,
          4386,
          1391,
          84,
          2,
          5093,
          184,
          352,
          2025,
          31044,
          1288,
          1060,
          6054,
          1282,
          4406,
          2,
          1442,
          1671,
          104,
          50,
          4689,
          3114,
          759,
          1268,
          422,
          10208,
          883,
          1902,
          11143,
          1820,
          1288,
          110,
          2484,
          129,
          500,
          129,
          256,
          50,
          88,
          1963,
          3150,
          4193,
          740,
          2559,
          490,
          4360,
          809,
          809,
          342,
          1906,
          1288,
          5071,
          7839,
          50,
          50,
          50,
          50,
          237,
          6663,
          132,
          74,
          146,
          184,
          4742,
          146,
          1479,
          420,
          19200,
          800,
          809,
          679,
          9423,
          3385,
          189,
          220,
          7435,
          95,
          809,
          10789,
          982,
          2807,
          1650,
          809,
          4013,
          13632,
          2671,
          218,
          3639,
          478,
          814,
          12,
          9498,
          945,
          2907,
          964,
          1361,
          1261,
          661,
          2542,
          1399,
          0,
          644,
          1908,
          15,
          44,
          161,
          14648,
          1240,
          68,
          4593,
          2716,
          8,
          8816,
          58,
          1635,
          307,
          71,
          431,
          3622,
          2682,
          103,
          159,
          1705,
          2176,
          16,
          571,
          334,
          6,
          5778,
          1801,
          2122,
          6745,
          1068,
          1130,
          2374,
          890,
          766,
          40,
          879,
          890,
          766,
          855,
          3697,
          97,
          16,
          412,
          812,
          821,
          49,
          152,
          418,
          824,
          8710,
          186,
          831,
          2542,
          4553,
          9186,
          1370,
          1786,
          42876,
          2337,
          2542,
          1373,
          9979,
          9962,
          9979,
          2542,
          9979,
          17491,
          9962,
          50,
          2542,
          9962,
          220,
          69
         ],
         "yaxis": "y"
        }
       ],
       "layout": {
        "barmode": "relative",
        "legend": {
         "tracegroupgap": 0
        },
        "margin": {
         "t": 60
        },
        "template": {
         "data": {
          "bar": [
           {
            "error_x": {
             "color": "#2a3f5f"
            },
            "error_y": {
             "color": "#2a3f5f"
            },
            "marker": {
             "line": {
              "color": "#E5ECF6",
              "width": 0.5
             },
             "pattern": {
              "fillmode": "overlay",
              "size": 10,
              "solidity": 0.2
             }
            },
            "type": "bar"
           }
          ],
          "barpolar": [
           {
            "marker": {
             "line": {
              "color": "#E5ECF6",
              "width": 0.5
             },
             "pattern": {
              "fillmode": "overlay",
              "size": 10,
              "solidity": 0.2
             }
            },
            "type": "barpolar"
           }
          ],
          "carpet": [
           {
            "aaxis": {
             "endlinecolor": "#2a3f5f",
             "gridcolor": "white",
             "linecolor": "white",
             "minorgridcolor": "white",
             "startlinecolor": "#2a3f5f"
            },
            "baxis": {
             "endlinecolor": "#2a3f5f",
             "gridcolor": "white",
             "linecolor": "white",
             "minorgridcolor": "white",
             "startlinecolor": "#2a3f5f"
            },
            "type": "carpet"
           }
          ],
          "choropleth": [
           {
            "colorbar": {
             "outlinewidth": 0,
             "ticks": ""
            },
            "type": "choropleth"
           }
          ],
          "contour": [
           {
            "colorbar": {
             "outlinewidth": 0,
             "ticks": ""
            },
            "colorscale": [
             [
              0,
              "#0d0887"
             ],
             [
              0.1111111111111111,
              "#46039f"
             ],
             [
              0.2222222222222222,
              "#7201a8"
             ],
             [
              0.3333333333333333,
              "#9c179e"
             ],
             [
              0.4444444444444444,
              "#bd3786"
             ],
             [
              0.5555555555555556,
              "#d8576b"
             ],
             [
              0.6666666666666666,
              "#ed7953"
             ],
             [
              0.7777777777777778,
              "#fb9f3a"
             ],
             [
              0.8888888888888888,
              "#fdca26"
             ],
             [
              1,
              "#f0f921"
             ]
            ],
            "type": "contour"
           }
          ],
          "contourcarpet": [
           {
            "colorbar": {
             "outlinewidth": 0,
             "ticks": ""
            },
            "type": "contourcarpet"
           }
          ],
          "heatmap": [
           {
            "colorbar": {
             "outlinewidth": 0,
             "ticks": ""
            },
            "colorscale": [
             [
              0,
              "#0d0887"
             ],
             [
              0.1111111111111111,
              "#46039f"
             ],
             [
              0.2222222222222222,
              "#7201a8"
             ],
             [
              0.3333333333333333,
              "#9c179e"
             ],
             [
              0.4444444444444444,
              "#bd3786"
             ],
             [
              0.5555555555555556,
              "#d8576b"
             ],
             [
              0.6666666666666666,
              "#ed7953"
             ],
             [
              0.7777777777777778,
              "#fb9f3a"
             ],
             [
              0.8888888888888888,
              "#fdca26"
             ],
             [
              1,
              "#f0f921"
             ]
            ],
            "type": "heatmap"
           }
          ],
          "heatmapgl": [
           {
            "colorbar": {
             "outlinewidth": 0,
             "ticks": ""
            },
            "colorscale": [
             [
              0,
              "#0d0887"
             ],
             [
              0.1111111111111111,
              "#46039f"
             ],
             [
              0.2222222222222222,
              "#7201a8"
             ],
             [
              0.3333333333333333,
              "#9c179e"
             ],
             [
              0.4444444444444444,
              "#bd3786"
             ],
             [
              0.5555555555555556,
              "#d8576b"
             ],
             [
              0.6666666666666666,
              "#ed7953"
             ],
             [
              0.7777777777777778,
              "#fb9f3a"
             ],
             [
              0.8888888888888888,
              "#fdca26"
             ],
             [
              1,
              "#f0f921"
             ]
            ],
            "type": "heatmapgl"
           }
          ],
          "histogram": [
           {
            "marker": {
             "pattern": {
              "fillmode": "overlay",
              "size": 10,
              "solidity": 0.2
             }
            },
            "type": "histogram"
           }
          ],
          "histogram2d": [
           {
            "colorbar": {
             "outlinewidth": 0,
             "ticks": ""
            },
            "colorscale": [
             [
              0,
              "#0d0887"
             ],
             [
              0.1111111111111111,
              "#46039f"
             ],
             [
              0.2222222222222222,
              "#7201a8"
             ],
             [
              0.3333333333333333,
              "#9c179e"
             ],
             [
              0.4444444444444444,
              "#bd3786"
             ],
             [
              0.5555555555555556,
              "#d8576b"
             ],
             [
              0.6666666666666666,
              "#ed7953"
             ],
             [
              0.7777777777777778,
              "#fb9f3a"
             ],
             [
              0.8888888888888888,
              "#fdca26"
             ],
             [
              1,
              "#f0f921"
             ]
            ],
            "type": "histogram2d"
           }
          ],
          "histogram2dcontour": [
           {
            "colorbar": {
             "outlinewidth": 0,
             "ticks": ""
            },
            "colorscale": [
             [
              0,
              "#0d0887"
             ],
             [
              0.1111111111111111,
              "#46039f"
             ],
             [
              0.2222222222222222,
              "#7201a8"
             ],
             [
              0.3333333333333333,
              "#9c179e"
             ],
             [
              0.4444444444444444,
              "#bd3786"
             ],
             [
              0.5555555555555556,
              "#d8576b"
             ],
             [
              0.6666666666666666,
              "#ed7953"
             ],
             [
              0.7777777777777778,
              "#fb9f3a"
             ],
             [
              0.8888888888888888,
              "#fdca26"
             ],
             [
              1,
              "#f0f921"
             ]
            ],
            "type": "histogram2dcontour"
           }
          ],
          "mesh3d": [
           {
            "colorbar": {
             "outlinewidth": 0,
             "ticks": ""
            },
            "type": "mesh3d"
           }
          ],
          "parcoords": [
           {
            "line": {
             "colorbar": {
              "outlinewidth": 0,
              "ticks": ""
             }
            },
            "type": "parcoords"
           }
          ],
          "pie": [
           {
            "automargin": true,
            "type": "pie"
           }
          ],
          "scatter": [
           {
            "fillpattern": {
             "fillmode": "overlay",
             "size": 10,
             "solidity": 0.2
            },
            "type": "scatter"
           }
          ],
          "scatter3d": [
           {
            "line": {
             "colorbar": {
              "outlinewidth": 0,
              "ticks": ""
             }
            },
            "marker": {
             "colorbar": {
              "outlinewidth": 0,
              "ticks": ""
             }
            },
            "type": "scatter3d"
           }
          ],
          "scattercarpet": [
           {
            "marker": {
             "colorbar": {
              "outlinewidth": 0,
              "ticks": ""
             }
            },
            "type": "scattercarpet"
           }
          ],
          "scattergeo": [
           {
            "marker": {
             "colorbar": {
              "outlinewidth": 0,
              "ticks": ""
             }
            },
            "type": "scattergeo"
           }
          ],
          "scattergl": [
           {
            "marker": {
             "colorbar": {
              "outlinewidth": 0,
              "ticks": ""
             }
            },
            "type": "scattergl"
           }
          ],
          "scattermapbox": [
           {
            "marker": {
             "colorbar": {
              "outlinewidth": 0,
              "ticks": ""
             }
            },
            "type": "scattermapbox"
           }
          ],
          "scatterpolar": [
           {
            "marker": {
             "colorbar": {
              "outlinewidth": 0,
              "ticks": ""
             }
            },
            "type": "scatterpolar"
           }
          ],
          "scatterpolargl": [
           {
            "marker": {
             "colorbar": {
              "outlinewidth": 0,
              "ticks": ""
             }
            },
            "type": "scatterpolargl"
           }
          ],
          "scatterternary": [
           {
            "marker": {
             "colorbar": {
              "outlinewidth": 0,
              "ticks": ""
             }
            },
            "type": "scatterternary"
           }
          ],
          "surface": [
           {
            "colorbar": {
             "outlinewidth": 0,
             "ticks": ""
            },
            "colorscale": [
             [
              0,
              "#0d0887"
             ],
             [
              0.1111111111111111,
              "#46039f"
             ],
             [
              0.2222222222222222,
              "#7201a8"
             ],
             [
              0.3333333333333333,
              "#9c179e"
             ],
             [
              0.4444444444444444,
              "#bd3786"
             ],
             [
              0.5555555555555556,
              "#d8576b"
             ],
             [
              0.6666666666666666,
              "#ed7953"
             ],
             [
              0.7777777777777778,
              "#fb9f3a"
             ],
             [
              0.8888888888888888,
              "#fdca26"
             ],
             [
              1,
              "#f0f921"
             ]
            ],
            "type": "surface"
           }
          ],
          "table": [
           {
            "cells": {
             "fill": {
              "color": "#EBF0F8"
             },
             "line": {
              "color": "white"
             }
            },
            "header": {
             "fill": {
              "color": "#C8D4E3"
             },
             "line": {
              "color": "white"
             }
            },
            "type": "table"
           }
          ]
         },
         "layout": {
          "annotationdefaults": {
           "arrowcolor": "#2a3f5f",
           "arrowhead": 0,
           "arrowwidth": 1
          },
          "autotypenumbers": "strict",
          "coloraxis": {
           "colorbar": {
            "outlinewidth": 0,
            "ticks": ""
           }
          },
          "colorscale": {
           "diverging": [
            [
             0,
             "#8e0152"
            ],
            [
             0.1,
             "#c51b7d"
            ],
            [
             0.2,
             "#de77ae"
            ],
            [
             0.3,
             "#f1b6da"
            ],
            [
             0.4,
             "#fde0ef"
            ],
            [
             0.5,
             "#f7f7f7"
            ],
            [
             0.6,
             "#e6f5d0"
            ],
            [
             0.7,
             "#b8e186"
            ],
            [
             0.8,
             "#7fbc41"
            ],
            [
             0.9,
             "#4d9221"
            ],
            [
             1,
             "#276419"
            ]
           ],
           "sequential": [
            [
             0,
             "#0d0887"
            ],
            [
             0.1111111111111111,
             "#46039f"
            ],
            [
             0.2222222222222222,
             "#7201a8"
            ],
            [
             0.3333333333333333,
             "#9c179e"
            ],
            [
             0.4444444444444444,
             "#bd3786"
            ],
            [
             0.5555555555555556,
             "#d8576b"
            ],
            [
             0.6666666666666666,
             "#ed7953"
            ],
            [
             0.7777777777777778,
             "#fb9f3a"
            ],
            [
             0.8888888888888888,
             "#fdca26"
            ],
            [
             1,
             "#f0f921"
            ]
           ],
           "sequentialminus": [
            [
             0,
             "#0d0887"
            ],
            [
             0.1111111111111111,
             "#46039f"
            ],
            [
             0.2222222222222222,
             "#7201a8"
            ],
            [
             0.3333333333333333,
             "#9c179e"
            ],
            [
             0.4444444444444444,
             "#bd3786"
            ],
            [
             0.5555555555555556,
             "#d8576b"
            ],
            [
             0.6666666666666666,
             "#ed7953"
            ],
            [
             0.7777777777777778,
             "#fb9f3a"
            ],
            [
             0.8888888888888888,
             "#fdca26"
            ],
            [
             1,
             "#f0f921"
            ]
           ]
          },
          "colorway": [
           "#636efa",
           "#EF553B",
           "#00cc96",
           "#ab63fa",
           "#FFA15A",
           "#19d3f3",
           "#FF6692",
           "#B6E880",
           "#FF97FF",
           "#FECB52"
          ],
          "font": {
           "color": "#2a3f5f"
          },
          "geo": {
           "bgcolor": "white",
           "lakecolor": "white",
           "landcolor": "#E5ECF6",
           "showlakes": true,
           "showland": true,
           "subunitcolor": "white"
          },
          "hoverlabel": {
           "align": "left"
          },
          "hovermode": "closest",
          "mapbox": {
           "style": "light"
          },
          "paper_bgcolor": "white",
          "plot_bgcolor": "#E5ECF6",
          "polar": {
           "angularaxis": {
            "gridcolor": "white",
            "linecolor": "white",
            "ticks": ""
           },
           "bgcolor": "#E5ECF6",
           "radialaxis": {
            "gridcolor": "white",
            "linecolor": "white",
            "ticks": ""
           }
          },
          "scene": {
           "xaxis": {
            "backgroundcolor": "#E5ECF6",
            "gridcolor": "white",
            "gridwidth": 2,
            "linecolor": "white",
            "showbackground": true,
            "ticks": "",
            "zerolinecolor": "white"
           },
           "yaxis": {
            "backgroundcolor": "#E5ECF6",
            "gridcolor": "white",
            "gridwidth": 2,
            "linecolor": "white",
            "showbackground": true,
            "ticks": "",
            "zerolinecolor": "white"
           },
           "zaxis": {
            "backgroundcolor": "#E5ECF6",
            "gridcolor": "white",
            "gridwidth": 2,
            "linecolor": "white",
            "showbackground": true,
            "ticks": "",
            "zerolinecolor": "white"
           }
          },
          "shapedefaults": {
           "line": {
            "color": "#2a3f5f"
           }
          },
          "ternary": {
           "aaxis": {
            "gridcolor": "white",
            "linecolor": "white",
            "ticks": ""
           },
           "baxis": {
            "gridcolor": "white",
            "linecolor": "white",
            "ticks": ""
           },
           "bgcolor": "#E5ECF6",
           "caxis": {
            "gridcolor": "white",
            "linecolor": "white",
            "ticks": ""
           }
          },
          "title": {
           "x": 0.05
          },
          "xaxis": {
           "automargin": true,
           "gridcolor": "white",
           "linecolor": "white",
           "ticks": "",
           "title": {
            "standoff": 15
           },
           "zerolinecolor": "white",
           "zerolinewidth": 2
          },
          "yaxis": {
           "automargin": true,
           "gridcolor": "white",
           "linecolor": "white",
           "ticks": "",
           "title": {
            "standoff": 15
           },
           "zerolinecolor": "white",
           "zerolinewidth": 2
          }
         }
        },
        "xaxis": {
         "anchor": "y",
         "domain": [
          0,
          1
         ],
         "title": {
          "text": "x"
         }
        },
        "yaxis": {
         "anchor": "x",
         "domain": [
          0,
          1
         ],
         "title": {
          "text": "y"
         }
        }
       }
      },
      "text/html": [
       "<div>                            <div id=\"9c7110a8-9009-4ede-a4a0-e730f078ca3d\" class=\"plotly-graph-div\" style=\"height:525px; width:100%;\"></div>            <script type=\"text/javascript\">                require([\"plotly\"], function(Plotly) {                    window.PLOTLYENV=window.PLOTLYENV || {};                                    if (document.getElementById(\"9c7110a8-9009-4ede-a4a0-e730f078ca3d\")) {                    Plotly.newPlot(                        \"9c7110a8-9009-4ede-a4a0-e730f078ca3d\",                        [{\"alignmentgroup\":\"True\",\"hovertemplate\":\"x=%{x}<br>y=%{y}<extra></extra>\",\"legendgroup\":\"\",\"marker\":{\"color\":\"#636efa\",\"pattern\":{\"shape\":\"\"}},\"name\":\"\",\"offsetgroup\":\"\",\"orientation\":\"v\",\"showlegend\":false,\"textposition\":\"auto\",\"x\":[0,1,2,3,4,5,6,7,8,9,10,11,12,13,14,15,16,17,18,19,20,21,22,23,24,25,26,27,28,29,30,31,32,33,34,35,36,37,38,39,40,41,42,43,44,45,46,47,48,49,50,51,52,53,54,55,56,57,58,59,60,61,62,63,64,65,66,67,68,69,70,71,72,73,74,75,76,77,78,79,80,81,82,83,84,85,86,87,88,89,90,91,92,93,94,95,96,97,98,99,100,101,102,103,104,105,106,107,108,109,110,111,112,113,114,115,116,117,118,119,120,121,122,123,124,125,126,127,128,129,130,131,132,133,134,135,136,137,138,139,140,141,142,143,144,145,146,147,148,149,150,151,152,153,154,155,156,157,158,159,160,161,162,163,164,165,166,167,168,169,170,171,172,173,174,175,176,177,178,179,180,181,182,183,184,185,186,187,188,189,190,191,192,193,194,195,196,197,198,199,200,201,202,203,204,205,206,207,208,209,210,211,212,213,214],\"xaxis\":\"x\",\"y\":[38186,101212,15986,128728,22306,42267,45160,128728,128765,38,3829,25333,736,395,9279,25408,994,409,1323,3829,3091,930,1315,3013,2928,3366,1860,1210,2781,3091,501,695,3829,4297,701,1175,446,1075,31044,2,4386,1391,84,2,5093,184,352,2025,31044,1288,1060,6054,1282,4406,2,1442,1671,104,50,4689,3114,759,1268,422,10208,883,1902,11143,1820,1288,110,2484,129,500,129,256,50,88,1963,3150,4193,740,2559,490,4360,809,809,342,1906,1288,5071,7839,50,50,50,50,237,6663,132,74,146,184,4742,146,1479,420,19200,800,809,679,9423,3385,189,220,7435,95,809,10789,982,2807,1650,809,4013,13632,2671,218,3639,478,814,12,9498,945,2907,964,1361,1261,661,2542,1399,0,644,1908,15,44,161,14648,1240,68,4593,2716,8,8816,58,1635,307,71,431,3622,2682,103,159,1705,2176,16,571,334,6,5778,1801,2122,6745,1068,1130,2374,890,766,40,879,890,766,855,3697,97,16,412,812,821,49,152,418,824,8710,186,831,2542,4553,9186,1370,1786,42876,2337,2542,1373,9979,9962,9979,2542,9979,17491,9962,50,2542,9962,220,69],\"yaxis\":\"y\",\"type\":\"bar\"}],                        {\"template\":{\"data\":{\"histogram2dcontour\":[{\"type\":\"histogram2dcontour\",\"colorbar\":{\"outlinewidth\":0,\"ticks\":\"\"},\"colorscale\":[[0.0,\"#0d0887\"],[0.1111111111111111,\"#46039f\"],[0.2222222222222222,\"#7201a8\"],[0.3333333333333333,\"#9c179e\"],[0.4444444444444444,\"#bd3786\"],[0.5555555555555556,\"#d8576b\"],[0.6666666666666666,\"#ed7953\"],[0.7777777777777778,\"#fb9f3a\"],[0.8888888888888888,\"#fdca26\"],[1.0,\"#f0f921\"]]}],\"choropleth\":[{\"type\":\"choropleth\",\"colorbar\":{\"outlinewidth\":0,\"ticks\":\"\"}}],\"histogram2d\":[{\"type\":\"histogram2d\",\"colorbar\":{\"outlinewidth\":0,\"ticks\":\"\"},\"colorscale\":[[0.0,\"#0d0887\"],[0.1111111111111111,\"#46039f\"],[0.2222222222222222,\"#7201a8\"],[0.3333333333333333,\"#9c179e\"],[0.4444444444444444,\"#bd3786\"],[0.5555555555555556,\"#d8576b\"],[0.6666666666666666,\"#ed7953\"],[0.7777777777777778,\"#fb9f3a\"],[0.8888888888888888,\"#fdca26\"],[1.0,\"#f0f921\"]]}],\"heatmap\":[{\"type\":\"heatmap\",\"colorbar\":{\"outlinewidth\":0,\"ticks\":\"\"},\"colorscale\":[[0.0,\"#0d0887\"],[0.1111111111111111,\"#46039f\"],[0.2222222222222222,\"#7201a8\"],[0.3333333333333333,\"#9c179e\"],[0.4444444444444444,\"#bd3786\"],[0.5555555555555556,\"#d8576b\"],[0.6666666666666666,\"#ed7953\"],[0.7777777777777778,\"#fb9f3a\"],[0.8888888888888888,\"#fdca26\"],[1.0,\"#f0f921\"]]}],\"heatmapgl\":[{\"type\":\"heatmapgl\",\"colorbar\":{\"outlinewidth\":0,\"ticks\":\"\"},\"colorscale\":[[0.0,\"#0d0887\"],[0.1111111111111111,\"#46039f\"],[0.2222222222222222,\"#7201a8\"],[0.3333333333333333,\"#9c179e\"],[0.4444444444444444,\"#bd3786\"],[0.5555555555555556,\"#d8576b\"],[0.6666666666666666,\"#ed7953\"],[0.7777777777777778,\"#fb9f3a\"],[0.8888888888888888,\"#fdca26\"],[1.0,\"#f0f921\"]]}],\"contourcarpet\":[{\"type\":\"contourcarpet\",\"colorbar\":{\"outlinewidth\":0,\"ticks\":\"\"}}],\"contour\":[{\"type\":\"contour\",\"colorbar\":{\"outlinewidth\":0,\"ticks\":\"\"},\"colorscale\":[[0.0,\"#0d0887\"],[0.1111111111111111,\"#46039f\"],[0.2222222222222222,\"#7201a8\"],[0.3333333333333333,\"#9c179e\"],[0.4444444444444444,\"#bd3786\"],[0.5555555555555556,\"#d8576b\"],[0.6666666666666666,\"#ed7953\"],[0.7777777777777778,\"#fb9f3a\"],[0.8888888888888888,\"#fdca26\"],[1.0,\"#f0f921\"]]}],\"surface\":[{\"type\":\"surface\",\"colorbar\":{\"outlinewidth\":0,\"ticks\":\"\"},\"colorscale\":[[0.0,\"#0d0887\"],[0.1111111111111111,\"#46039f\"],[0.2222222222222222,\"#7201a8\"],[0.3333333333333333,\"#9c179e\"],[0.4444444444444444,\"#bd3786\"],[0.5555555555555556,\"#d8576b\"],[0.6666666666666666,\"#ed7953\"],[0.7777777777777778,\"#fb9f3a\"],[0.8888888888888888,\"#fdca26\"],[1.0,\"#f0f921\"]]}],\"mesh3d\":[{\"type\":\"mesh3d\",\"colorbar\":{\"outlinewidth\":0,\"ticks\":\"\"}}],\"scatter\":[{\"fillpattern\":{\"fillmode\":\"overlay\",\"size\":10,\"solidity\":0.2},\"type\":\"scatter\"}],\"parcoords\":[{\"type\":\"parcoords\",\"line\":{\"colorbar\":{\"outlinewidth\":0,\"ticks\":\"\"}}}],\"scatterpolargl\":[{\"type\":\"scatterpolargl\",\"marker\":{\"colorbar\":{\"outlinewidth\":0,\"ticks\":\"\"}}}],\"bar\":[{\"error_x\":{\"color\":\"#2a3f5f\"},\"error_y\":{\"color\":\"#2a3f5f\"},\"marker\":{\"line\":{\"color\":\"#E5ECF6\",\"width\":0.5},\"pattern\":{\"fillmode\":\"overlay\",\"size\":10,\"solidity\":0.2}},\"type\":\"bar\"}],\"scattergeo\":[{\"type\":\"scattergeo\",\"marker\":{\"colorbar\":{\"outlinewidth\":0,\"ticks\":\"\"}}}],\"scatterpolar\":[{\"type\":\"scatterpolar\",\"marker\":{\"colorbar\":{\"outlinewidth\":0,\"ticks\":\"\"}}}],\"histogram\":[{\"marker\":{\"pattern\":{\"fillmode\":\"overlay\",\"size\":10,\"solidity\":0.2}},\"type\":\"histogram\"}],\"scattergl\":[{\"type\":\"scattergl\",\"marker\":{\"colorbar\":{\"outlinewidth\":0,\"ticks\":\"\"}}}],\"scatter3d\":[{\"type\":\"scatter3d\",\"line\":{\"colorbar\":{\"outlinewidth\":0,\"ticks\":\"\"}},\"marker\":{\"colorbar\":{\"outlinewidth\":0,\"ticks\":\"\"}}}],\"scattermapbox\":[{\"type\":\"scattermapbox\",\"marker\":{\"colorbar\":{\"outlinewidth\":0,\"ticks\":\"\"}}}],\"scatterternary\":[{\"type\":\"scatterternary\",\"marker\":{\"colorbar\":{\"outlinewidth\":0,\"ticks\":\"\"}}}],\"scattercarpet\":[{\"type\":\"scattercarpet\",\"marker\":{\"colorbar\":{\"outlinewidth\":0,\"ticks\":\"\"}}}],\"carpet\":[{\"aaxis\":{\"endlinecolor\":\"#2a3f5f\",\"gridcolor\":\"white\",\"linecolor\":\"white\",\"minorgridcolor\":\"white\",\"startlinecolor\":\"#2a3f5f\"},\"baxis\":{\"endlinecolor\":\"#2a3f5f\",\"gridcolor\":\"white\",\"linecolor\":\"white\",\"minorgridcolor\":\"white\",\"startlinecolor\":\"#2a3f5f\"},\"type\":\"carpet\"}],\"table\":[{\"cells\":{\"fill\":{\"color\":\"#EBF0F8\"},\"line\":{\"color\":\"white\"}},\"header\":{\"fill\":{\"color\":\"#C8D4E3\"},\"line\":{\"color\":\"white\"}},\"type\":\"table\"}],\"barpolar\":[{\"marker\":{\"line\":{\"color\":\"#E5ECF6\",\"width\":0.5},\"pattern\":{\"fillmode\":\"overlay\",\"size\":10,\"solidity\":0.2}},\"type\":\"barpolar\"}],\"pie\":[{\"automargin\":true,\"type\":\"pie\"}]},\"layout\":{\"autotypenumbers\":\"strict\",\"colorway\":[\"#636efa\",\"#EF553B\",\"#00cc96\",\"#ab63fa\",\"#FFA15A\",\"#19d3f3\",\"#FF6692\",\"#B6E880\",\"#FF97FF\",\"#FECB52\"],\"font\":{\"color\":\"#2a3f5f\"},\"hovermode\":\"closest\",\"hoverlabel\":{\"align\":\"left\"},\"paper_bgcolor\":\"white\",\"plot_bgcolor\":\"#E5ECF6\",\"polar\":{\"bgcolor\":\"#E5ECF6\",\"angularaxis\":{\"gridcolor\":\"white\",\"linecolor\":\"white\",\"ticks\":\"\"},\"radialaxis\":{\"gridcolor\":\"white\",\"linecolor\":\"white\",\"ticks\":\"\"}},\"ternary\":{\"bgcolor\":\"#E5ECF6\",\"aaxis\":{\"gridcolor\":\"white\",\"linecolor\":\"white\",\"ticks\":\"\"},\"baxis\":{\"gridcolor\":\"white\",\"linecolor\":\"white\",\"ticks\":\"\"},\"caxis\":{\"gridcolor\":\"white\",\"linecolor\":\"white\",\"ticks\":\"\"}},\"coloraxis\":{\"colorbar\":{\"outlinewidth\":0,\"ticks\":\"\"}},\"colorscale\":{\"sequential\":[[0.0,\"#0d0887\"],[0.1111111111111111,\"#46039f\"],[0.2222222222222222,\"#7201a8\"],[0.3333333333333333,\"#9c179e\"],[0.4444444444444444,\"#bd3786\"],[0.5555555555555556,\"#d8576b\"],[0.6666666666666666,\"#ed7953\"],[0.7777777777777778,\"#fb9f3a\"],[0.8888888888888888,\"#fdca26\"],[1.0,\"#f0f921\"]],\"sequentialminus\":[[0.0,\"#0d0887\"],[0.1111111111111111,\"#46039f\"],[0.2222222222222222,\"#7201a8\"],[0.3333333333333333,\"#9c179e\"],[0.4444444444444444,\"#bd3786\"],[0.5555555555555556,\"#d8576b\"],[0.6666666666666666,\"#ed7953\"],[0.7777777777777778,\"#fb9f3a\"],[0.8888888888888888,\"#fdca26\"],[1.0,\"#f0f921\"]],\"diverging\":[[0,\"#8e0152\"],[0.1,\"#c51b7d\"],[0.2,\"#de77ae\"],[0.3,\"#f1b6da\"],[0.4,\"#fde0ef\"],[0.5,\"#f7f7f7\"],[0.6,\"#e6f5d0\"],[0.7,\"#b8e186\"],[0.8,\"#7fbc41\"],[0.9,\"#4d9221\"],[1,\"#276419\"]]},\"xaxis\":{\"gridcolor\":\"white\",\"linecolor\":\"white\",\"ticks\":\"\",\"title\":{\"standoff\":15},\"zerolinecolor\":\"white\",\"automargin\":true,\"zerolinewidth\":2},\"yaxis\":{\"gridcolor\":\"white\",\"linecolor\":\"white\",\"ticks\":\"\",\"title\":{\"standoff\":15},\"zerolinecolor\":\"white\",\"automargin\":true,\"zerolinewidth\":2},\"scene\":{\"xaxis\":{\"backgroundcolor\":\"#E5ECF6\",\"gridcolor\":\"white\",\"linecolor\":\"white\",\"showbackground\":true,\"ticks\":\"\",\"zerolinecolor\":\"white\",\"gridwidth\":2},\"yaxis\":{\"backgroundcolor\":\"#E5ECF6\",\"gridcolor\":\"white\",\"linecolor\":\"white\",\"showbackground\":true,\"ticks\":\"\",\"zerolinecolor\":\"white\",\"gridwidth\":2},\"zaxis\":{\"backgroundcolor\":\"#E5ECF6\",\"gridcolor\":\"white\",\"linecolor\":\"white\",\"showbackground\":true,\"ticks\":\"\",\"zerolinecolor\":\"white\",\"gridwidth\":2}},\"shapedefaults\":{\"line\":{\"color\":\"#2a3f5f\"}},\"annotationdefaults\":{\"arrowcolor\":\"#2a3f5f\",\"arrowhead\":0,\"arrowwidth\":1},\"geo\":{\"bgcolor\":\"white\",\"landcolor\":\"#E5ECF6\",\"subunitcolor\":\"white\",\"showland\":true,\"showlakes\":true,\"lakecolor\":\"white\"},\"title\":{\"x\":0.05},\"mapbox\":{\"style\":\"light\"}}},\"xaxis\":{\"anchor\":\"y\",\"domain\":[0.0,1.0],\"title\":{\"text\":\"x\"}},\"yaxis\":{\"anchor\":\"x\",\"domain\":[0.0,1.0],\"title\":{\"text\":\"y\"}},\"legend\":{\"tracegroupgap\":0},\"margin\":{\"t\":60},\"barmode\":\"relative\"},                        {\"responsive\": true}                    ).then(function(){\n",
       "                            \n",
       "var gd = document.getElementById('9c7110a8-9009-4ede-a4a0-e730f078ca3d');\n",
       "var x = new MutationObserver(function (mutations, observer) {{\n",
       "        var display = window.getComputedStyle(gd).display;\n",
       "        if (!display || display === 'none') {{\n",
       "            console.log([gd, 'removed!']);\n",
       "            Plotly.purge(gd);\n",
       "            observer.disconnect();\n",
       "        }}\n",
       "}});\n",
       "\n",
       "// Listen for the removal of the full notebook cells\n",
       "var notebookContainer = gd.closest('#notebook-container');\n",
       "if (notebookContainer) {{\n",
       "    x.observe(notebookContainer, {childList: true});\n",
       "}}\n",
       "\n",
       "// Listen for the clearing of the current output cell\n",
       "var outputEl = gd.closest('.output');\n",
       "if (outputEl) {{\n",
       "    x.observe(outputEl, {childList: true});\n",
       "}}\n",
       "\n",
       "                        })                };                });            </script>        </div>"
      ]
     },
     "metadata": {},
     "output_type": "display_data"
    }
   ],
   "source": [
    "px.bar(y=dados[0].seguidores)"
   ]
  },
  {
   "cell_type": "code",
   "execution_count": null,
   "id": "5ba5388d",
   "metadata": {},
   "outputs": [],
   "source": []
  }
 ],
 "metadata": {
  "kernelspec": {
   "display_name": "Python 3 (ipykernel)",
   "language": "python",
   "name": "python3"
  },
  "language_info": {
   "codemirror_mode": {
    "name": "ipython",
    "version": 3
   },
   "file_extension": ".py",
   "mimetype": "text/x-python",
   "name": "python",
   "nbconvert_exporter": "python",
   "pygments_lexer": "ipython3",
   "version": "3.9.13"
  }
 },
 "nbformat": 4,
 "nbformat_minor": 5
}
